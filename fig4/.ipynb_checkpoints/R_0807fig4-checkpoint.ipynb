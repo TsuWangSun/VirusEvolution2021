{
 "cells": [
  {
   "cell_type": "markdown",
   "metadata": {
    "id": "pGFXf0HsOxtf"
   },
   "source": [
    "## Pairwise comparison"
   ]
  },
  {
   "cell_type": "code",
   "execution_count": 1,
   "metadata": {
    "collapsed": true
   },
   "outputs": [
    {
     "name": "stderr",
     "output_type": "stream",
     "text": [
      "also installing the dependencies ‘Rcpp’, ‘matrixStats’, ‘RcppArmadillo’, ‘SparseM’, ‘MatrixModels’, ‘conquer’, ‘openxlsx’, ‘minqa’, ‘nloptr’, ‘RcppEigen’, ‘isoband’, ‘cpp11’, ‘carData’, ‘abind’, ‘pbkrtest’, ‘quantreg’, ‘maptools’, ‘rio’, ‘lme4’, ‘ggplot2’, ‘tidyr’, ‘broom’, ‘corrplot’, ‘car’, ‘ggrepel’, ‘ggsci’, ‘cowplot’, ‘ggsignif’, ‘gridExtra’, ‘polynom’, ‘rstatix’\n",
      "\n",
      "\n",
      "Warning message in install.packages(\"ggpubr\"):\n",
      "“installation of package ‘nloptr’ had non-zero exit status”\n",
      "Warning message in install.packages(\"ggpubr\"):\n",
      "“installation of package ‘lme4’ had non-zero exit status”\n",
      "Warning message in install.packages(\"ggpubr\"):\n",
      "“installation of package ‘pbkrtest’ had non-zero exit status”\n",
      "Warning message in install.packages(\"ggpubr\"):\n",
      "“installation of package ‘car’ had non-zero exit status”\n",
      "Warning message in install.packages(\"ggpubr\"):\n",
      "“installation of package ‘rstatix’ had non-zero exit status”\n",
      "Warning message in install.packages(\"ggpubr\"):\n",
      "“installation of package ‘ggpubr’ had non-zero exit status”\n",
      "Updating HTML index of packages in '.Library'\n",
      "\n",
      "Making 'packages.html' ...\n",
      " done\n",
      "\n"
     ]
    }
   ],
   "source": [
    "# this code may work only in command line\n",
    "#install.packages(c(\"ggpubr\",\"ggplot2\",\"stringr\"))"
   ]
  },
  {
   "cell_type": "code",
   "execution_count": 1,
   "metadata": {
    "colab": {
     "base_uri": "https://localhost:8080/"
    },
    "executionInfo": {
     "elapsed": 524967,
     "status": "ok",
     "timestamp": 1623032489685,
     "user": {
      "displayName": "Tsu-Wang Sun",
      "photoUrl": "",
      "userId": "15932095404451727917"
     },
     "user_tz": -480
    },
    "id": "spe43ir7xDje",
    "outputId": "2e44b4a7-107f-4642-fde7-b21c0026b928"
   },
   "outputs": [
    {
     "name": "stderr",
     "output_type": "stream",
     "text": [
      "Warning message:\n",
      "“package ‘ggpubr’ was built under R version 3.6.3”\n",
      "Loading required package: magrittr\n",
      "\n"
     ]
    }
   ],
   "source": [
    "library(stringr)\n",
    "library(ggplot2)\n",
    "library(ggpubr)"
   ]
  },
  {
   "cell_type": "code",
   "execution_count": 2,
   "metadata": {
    "executionInfo": {
     "elapsed": 4545,
     "status": "ok",
     "timestamp": 1623034236836,
     "user": {
      "displayName": "Tsu-Wang Sun",
      "photoUrl": "",
      "userId": "15932095404451727917"
     },
     "user_tz": -480
    },
    "id": "s45RcBaROQ_d"
   },
   "outputs": [],
   "source": [
    "vdir=\"\"#../from_list_01/\n",
    "ndir=\"\"#../fig2/\n",
    "###IP\n",
    "cfm=\"^I\\\\d+|^P\\\\d+|^AC\\\\d+\"\n",
    "md='0807'#'1105'#\n",
    "nmd='0808'#'1105'#\n",
    "csp=read.csv(file=paste0(ndir,\"cnt-sp-norm-\",nmd,\".csv\"),header=T,sep=',',as.is=F)\n",
    "nsp=csp[intersect(grep(cfm,csp$a), grep(cfm,csp$b)),]\n",
    "nsp=cbind(nsp,ab=paste(nsp[,'a'],nsp[,'b'],sep=\",\"),\n",
    "          ahost=NA,bhost=NA,shost=F,length=0)\n",
    "spl=read.csv(file=paste0(vdir,\"viruslist-single-pan\",md,\".tsv\"),header=T,sep='\\t',as.is=F)\n",
    "colnames(spl)[which(colnames(spl)==\"Host_lineage\")]=\"EukTree\"\n",
    "nspl=spl[grep(cfm,spl$Abre),c('Abre','Length','EukTree','Family','aanum','gf.unique.fm','gf.shared')]\n",
    "nsp=nsp[intersect(which(nsp[,'a'] %in% nspl[,'Abre']),which(nsp[,'b'] %in% nspl[,'Abre'])),]\n",
    "# as.numeric(sub(\"I\",\"\",nspl$Abre[tail(grep('^I\\\\d+',nspl$Abre),1)]))\n",
    "\n",
    "change=cbind(old=c(paste0(\"AC0\",1:length(grep(\"^AC\\\\d+\",nspl$Abre)))),\n",
    "  new=c(paste0(\"I\",(length(grep('^I\\\\d+',nspl$Abre))+1):((length(grep('^I\\\\d+',nspl$Abre))+1)+length(grep(\"^AC\\\\d+\",nspl$Abre))-1))))\n",
    "\n",
    "for(i in 1:nrow(change)){\n",
    "  levels(nspl[,'Abre'])[which(levels(nspl[,'Abre'])==change[i,'old'])]=change[i,'new']\n",
    "  levels(nsp[,'a'])[which(levels(nsp[,'a'])==change[i,'old'])]=change[i,'new']\n",
    "  levels(nsp[,'b'])[which(levels(nsp[,'b'])==change[i,'old'])]=change[i,'new']\n",
    "}\n",
    "\n",
    "nsp=nsp[-which(str_extract(nsp[,'a'],\"\\\\D+\")==str_extract(nsp[,'b'],\"\\\\D+\")),]\n",
    "\n",
    "\n",
    "\n",
    "\n",
    "for(i in 1:nrow(nsp)){\n",
    "  nsp[i,'ahost']=as.character(nspl[grep(nsp[i,'a'],nspl[,'Abre']),'EukTree'])\n",
    "  nsp[i,'bhost']=as.character(nspl[grep(nsp[i,'b'],nspl[,'Abre']),'EukTree'])\n",
    "  nsp[i,'length']=sqrt(as.numeric(nspl[grep(nsp[i,'a'],nspl[,'Abre']),'Length'])*\n",
    "    as.numeric(nspl[grep(nsp[i,'b'],nspl[,'Abre']),'Length']))\n",
    "  nsp[i,'aamean']=sqrt(as.numeric(nspl[grep(nsp[i,'a'],nspl[,'Abre']),'aanum'])*\n",
    "    as.numeric(nspl[grep(nsp[i,'b'],nspl[,'Abre']),'aanum']))\n",
    "  nsp[i,'gpmean']=sqrt((as.numeric(nspl[grep(nsp[i,'a'],nspl[,'Abre']),'gf.unique.fm'])+\n",
    "    as.numeric(nspl[grep(nsp[i,'a'],nspl[,'Abre']),'gf.shared']))*\n",
    "      (as.numeric(nspl[grep(nsp[i,'b'],nspl[,'Abre']),'gf.unique.fm'])+\n",
    "        as.numeric(nspl[grep(nsp[i,'b'],nspl[,'Abre']),'gf.shared'])))\n",
    "  nsp[i,grep(\"ptera\",nsp[i,])]=\"Insect\"\n",
    "  nsp[i,grep(\"Fish|ia$|Aves\",nsp[i,])]=\"Vertebrate\"\n",
    "  if(nsp[i,'ahost']==nsp[i,'bhost']){nsp[i,'shost']=T}\n",
    "  else{nsp[i,'shost']=F}\n",
    "}\n",
    "\n",
    "simhost=nsp[-which(nsp[,'shost']==F),]\n",
    "sss=nsp[which(nsp[,'shost']==T),]\n",
    "sss=unique(sss[,'ahost']) # shared hosts\n",
    "\n",
    "#setdiff(which(nsp[,'shost']==F),intersect(which(nsp[,'ahost'] %in% sss),which(nsp[,'bhost'] %in% sss)))\n",
    "difhost=nsp[setdiff(which(nsp[,'shost']==F),intersect(which(nsp[,'ahost'] %in% sss),which(nsp[,'bhost'] %in% sss))),]\n",
    "simhost.l=c(as.character(unique(simhost[,'a'])),as.character(unique(simhost[,'b'])))\n",
    "\n",
    "tdifhost=difhost[intersect(which(difhost[,'a'] %in% simhost.l),which(difhost[,'b'] %in% simhost.l)),]\n"
   ]
  },
  {
   "cell_type": "code",
   "execution_count": 3,
   "metadata": {
    "colab": {
     "base_uri": "https://localhost:8080/",
     "height": 35
    },
    "executionInfo": {
     "elapsed": 900,
     "status": "ok",
     "timestamp": 1623034246238,
     "user": {
      "displayName": "Tsu-Wang Sun",
      "photoUrl": "",
      "userId": "15932095404451727917"
     },
     "user_tz": -480
    },
    "id": "FRL_cy4nORZ5",
    "outputId": "1bc56c9d-0d2f-4e78-bee3-d84f4a9ba981"
   },
   "outputs": [
    {
     "name": "stderr",
     "output_type": "stream",
     "text": [
      "Warning message:\n",
      "“`select_()` was deprecated in dplyr 0.7.0.\n",
      "Please use `select()` instead.\n",
      "\u001b[90mThis warning is displayed once every 8 hours.\u001b[39m\n",
      "\u001b[90mCall `lifecycle::last_warnings()` to see where this warning was generated.\u001b[39m”\n",
      "Warning message:\n",
      "“`tbl_df()` was deprecated in dplyr 1.0.0.\n",
      "Please use `tibble::as_tibble()` instead.\n",
      "\u001b[90mThis warning is displayed once every 8 hours.\u001b[39m\n",
      "\u001b[90mCall `lifecycle::last_warnings()` to see where this warning was generated.\u001b[39m”\n"
     ]
    },
    {
     "data": {
      "text/html": [
       "<strong>png:</strong> 2"
      ],
      "text/latex": [
       "\\textbf{png:} 2"
      ],
      "text/markdown": [
       "**png:** 2"
      ],
      "text/plain": [
       "png \n",
       "  2 "
      ]
     },
     "metadata": {},
     "output_type": "display_data"
    }
   ],
   "source": [
    "pdf(paste0('P-I-',md,'.pdf'),\n",
    "    width=8.268/2.1,height=11.693/4.2,paper='special')\n",
    "pval=NULL; pvind=1\n",
    "for(ht in sss){\n",
    "  alist=nsp[union(which(nsp[,'ahost']==ht),which(nsp[,'bhost']==ht)),]\n",
    "  simhost=alist[-which(alist[,'shost']==F),]\n",
    "  difhost=alist[-which(alist[,'shost']==T),]\n",
    "  \n",
    "  gpval='gpnorm'\n",
    "  pval[pvind]=wilcox.test(difhost[,gpval],simhost[,gpval],mu=0,alternative=\"less\",conf.int=T)$p.value; pvind=pvind+1\n",
    "\n",
    "  vio=ggplot(alist, aes(x=shost,y=alist[,gpval]))+\n",
    "    geom_violin()+theme_linedraw()+geom_boxplot(width=0.05,outlier.shape = NA)+ #,outlier.shape = NA\n",
    "    #geom_dotplot(binaxis='y', stackdir='center', dotsize=0.1)+#geom_jitter(width=0.25,size=0.5)+\n",
    "    theme(axis.text.x=element_text(size=8),\n",
    "      axis.text.y=element_text(size=10), axis.title=element_text(size=10))+\n",
    "    scale_x_discrete(labels=c(paste0(ht,\" & non-\",ht),paste0(ht,' & ',ht)))+\n",
    "    labs(x=paste0(length(which(!alist$shost)),\"  \",length(which(alist$shost))), \n",
    "      y=paste0(\"Level of genes sharing\"))+ #\n",
    "    stat_compare_means(label.x=1.2,label.y=max(nsp[,gpval])) #aes(label=..p.signif..),\n",
    "\n",
    "  print(vio);#print(s);print(d)\n",
    "\n",
    "}\n",
    "dev.off()\n"
   ]
  },
  {
   "cell_type": "code",
   "execution_count": 4,
   "metadata": {
    "executionInfo": {
     "elapsed": 2601,
     "status": "ok",
     "timestamp": 1623032577641,
     "user": {
      "displayName": "Tsu-Wang Sun",
      "photoUrl": "",
      "userId": "15932095404451727917"
     },
     "user_tz": -480
    },
    "id": "i1kSnAgNOTjK"
   },
   "outputs": [],
   "source": [
    "## file processing\n",
    "cfm=\"^MI\\\\d+|^PY\\\\d+|^MP\\\\d+|^PN\\\\d+|^ME\\\\d+\"\n",
    "\n",
    "csp=read.csv(file=paste0(ndir,\"cnt-sp-norm-\",nmd,\".csv\"),header=T,sep=',',as.is=F)\n",
    "nsp=csp[intersect(grep(cfm,csp$a), grep(cfm,csp$b)),]\n",
    "nsp=cbind(nsp,ab=paste(nsp[,'a'],nsp[,'b'],sep=\",\"),\n",
    "          ahost=NA,bhost=NA,shost=F,length=0)\n",
    "\n",
    "spl=read.csv(file=paste0(vdir,\"viruslist-single-pan\",md,\".tsv\"),header=T,sep='\\t',as.is=F)\n",
    "colnames(spl)[which(colnames(spl)==\"Host_lineage\")]=\"EukTree\"\n",
    "nspl=spl[grep(cfm,spl$Abre),c('Abre','Length','EukTree','Family','aanum','gf.unique.fm','gf.shared')]\n",
    "\n",
    "nspl=nspl[-grep(\"unknow\",nspl[,'EukTree']),]\n",
    "nsp=nsp[intersect(which(nsp[,'a'] %in% nspl[,'Abre']),which(nsp[,'b'] %in% nspl[,'Abre'])),]\n",
    "\n",
    "change=cbind(old=c(as.character(nspl$Abre[grep(\"^MP\\\\d+\",nspl$Abre)]),paste0(\"PN0\",1:length(grep(\"^PN\\\\d+\",nspl$Abre)))),\n",
    "  new=c(paste0(\"MI\",(max(as.numeric(sub(\"\\\\D+\",\"\",nspl$Abre[grep('^MI\\\\d+',nspl$Abre)])))+1):\n",
    "    ((max(as.numeric(sub(\"\\\\D+\",\"\",nspl$Abre[grep('^MI\\\\d+',nspl$Abre)])))+1)+length(grep(\"^MP\\\\d+\",nspl$Abre))-1)),\n",
    "  paste0(\"PY\",(max(as.numeric(sub(\"\\\\D+\",\"\",nspl$Abre[grep('^PY\\\\d+',nspl$Abre)])))+1):\n",
    "    ((max(as.numeric(sub(\"\\\\D+\",\"\",nspl$Abre[grep('^PY\\\\d+',nspl$Abre)])))+1)+length(grep(\"^PN\\\\d+\",nspl$Abre))-1))))\n",
    "\n",
    "\n",
    "\n",
    "for(i in 1:nrow(change)){\n",
    "  levels(nspl[,'Abre'])[which(levels(nspl[,'Abre'])==change[i,'old'])]=change[i,'new']\n",
    "  levels(nsp[,'a'])[which(levels(nsp[,'a'])==change[i,'old'])]=change[i,'new']\n",
    "  levels(nsp[,'b'])[which(levels(nsp[,'b'])==change[i,'old'])]=change[i,'new']\n",
    "}\n",
    "\n",
    "nsp=nsp[-which(str_extract(nsp[,'a'],\"\\\\D+\")==str_extract(nsp[,'b'],\"\\\\D+\")),]\n",
    "\n",
    "\n",
    "for(i in 1:nrow(nsp)){\n",
    "  nsp[i,'ahost']=as.character(nspl[grep(nsp[i,'a'],nspl[,'Abre']),'EukTree'])\n",
    "  nsp[i,'bhost']=as.character(nspl[grep(nsp[i,'b'],nspl[,'Abre']),'EukTree'])\n",
    "  nsp[i,'length']=sqrt(as.numeric(nspl[grep(nsp[i,'a'],nspl[,'Abre']),'Length'])*\n",
    "    as.numeric(nspl[grep(nsp[i,'b'],nspl[,'Abre']),'Length']))\n",
    "  nsp[i,'aamean']=sqrt(as.numeric(nspl[grep(nsp[i,'a'],nspl[,'Abre']),'aanum'])*\n",
    "    as.numeric(nspl[grep(nsp[i,'b'],nspl[,'Abre']),'aanum']))\n",
    "  nsp[i,'gpmean']=sqrt((as.numeric(nspl[grep(nsp[i,'a'],nspl[,'Abre']),'gf.unique.fm'])+\n",
    "    as.numeric(nspl[grep(nsp[i,'a'],nspl[,'Abre']),'gf.shared']))*\n",
    "      (as.numeric(nspl[grep(nsp[i,'b'],nspl[,'Abre']),'gf.unique.fm'])+\n",
    "        as.numeric(nspl[grep(nsp[i,'b'],nspl[,'Abre']),'gf.shared'])))\n",
    "  #nsp[i,grep(\"treboux|mamiello\",nsp[i,])]=\"chlorophytes\"\n",
    "  #nsp[i,grep(\"bicosoec|raphido|pelagophy|macroalg\",nsp[i,])]=\"stramenopiles\"\n",
    "  nsp[i,grep(\"phyceae|ales|coccus|monas\",nsp[i,])]=\"algae\"\n",
    "  #\"Treboux|mamiello|raphido|pelagophy|macroalg|haptophy\"\n",
    "  nsp[i,grep(\"Bicos|Choano|Eubod\",nsp[i,])]=\"hetero_flg\"\n",
    "  #nsp[i,grep(\"haptophy\",nsp[i,])]=\"haptophytes\"\n",
    "  nsp[i,grep(\"Tubuline|Discosea\",nsp[i,])]=\"amoeba\"\n",
    "  if(nsp[i,'ahost']==nsp[i,'bhost']){nsp[i,'shost']=T}else{\n",
    "    nsp[i,'shost']=F}\n",
    "}\n",
    "\n",
    "simhost=nsp[-which(nsp[,'shost']==F),]\n",
    "sss=nsp[which(nsp[,'shost']==T),]\n",
    "sss=unique(sss[,'ahost']) # shared hosts\n",
    "\n",
    "#setdiff(which(nsp[,'shost']==F),intersect(which(nsp[,'ahost'] %in% sss),which(nsp[,'bhost'] %in% sss)))\n",
    "difhost=nsp[setdiff(which(nsp[,'shost']==F),intersect(which(nsp[,'ahost'] %in% sss),which(nsp[,'bhost'] %in% sss))),]\n"
   ]
  },
  {
   "cell_type": "code",
   "execution_count": 5,
   "metadata": {
    "colab": {
     "base_uri": "https://localhost:8080/",
     "height": 35
    },
    "executionInfo": {
     "elapsed": 1044,
     "status": "ok",
     "timestamp": 1623032584112,
     "user": {
      "displayName": "Tsu-Wang Sun",
      "photoUrl": "",
      "userId": "15932095404451727917"
     },
     "user_tz": -480
    },
    "id": "Vzz3hRJROZLd",
    "outputId": "8e1006d3-db0b-4786-c064-9ee2f38254bd"
   },
   "outputs": [
    {
     "data": {
      "text/html": [
       "<strong>png:</strong> 2"
      ],
      "text/latex": [
       "\\textbf{png:} 2"
      ],
      "text/markdown": [
       "**png:** 2"
      ],
      "text/plain": [
       "png \n",
       "  2 "
      ]
     },
     "metadata": {},
     "output_type": "display_data"
    }
   ],
   "source": [
    "pdf(paste0('MI-PY-',md,'.pdf'),\n",
    "   width=8.268/2.1,height=11.693/4.2,paper='special')\n",
    "pval=NULL; pvind=1\n",
    "for(ht in sss){\n",
    "  alist=nsp[union(which(nsp[,'ahost']==ht),which(nsp[,'bhost']==ht)),]\n",
    "  simhost=alist[-which(alist[,'shost']==F),]\n",
    "  difhost=alist[-which(alist[,'shost']==T),]\n",
    "  \n",
    "  gpval='gpnorm'\n",
    "  pval[pvind]=wilcox.test(difhost[,gpval],simhost[,gpval],mu=0,alternative=\"less\",conf.int=T)$p.value; pvind=pvind+1\n",
    "\n",
    "  vio=ggplot(alist, aes(x=shost,y=alist[,gpval]))+\n",
    "    geom_violin()+theme_linedraw()+geom_boxplot(width=0.05,outlier.shape = NA)+\n",
    "    #geom_dotplot(binaxis='y', stackdir='center', dotsize=0.1)+#geom_jitter(width=0.25,size=0.5)+\n",
    "    theme(axis.text.x=element_text(size=8),\n",
    "      axis.text.y=element_text(size=10), axis.title=element_text(size=10))+\n",
    "    scale_x_discrete(labels=c(paste0(ht,\" & non-\",ht),paste0(ht,' & ',ht)))+\n",
    "    labs(x=paste0(length(which(!alist$shost)),\"  \",length(which(alist$shost))), \n",
    "      y=paste0(\"Level of gene sharing\"))+ #\n",
    "    stat_compare_means(label.x=1.2,label.y=max(nsp[,gpval]))\n",
    "\n",
    "  print(vio);#print(s);print(d)\n",
    "\n",
    "\n",
    "}\n",
    "dev.off()"
   ]
  },
  {
   "cell_type": "code",
   "execution_count": null,
   "metadata": {},
   "outputs": [],
   "source": []
  }
 ],
 "metadata": {
  "colab": {
   "authorship_tag": "ABX9TyMLwkPVRGfGHZ8IjbGKN15F",
   "name": "R_0607fig4.ipynb",
   "provenance": [],
   "toc_visible": true
  },
  "kernelspec": {
   "display_name": "R",
   "language": "R",
   "name": "ir"
  },
  "language_info": {
   "codemirror_mode": "r",
   "file_extension": ".r",
   "mimetype": "text/x-r-source",
   "name": "R",
   "pygments_lexer": "r",
   "version": "3.6.1"
  }
 },
 "nbformat": 4,
 "nbformat_minor": 1
}
