{
 "cells": [
  {
   "cell_type": "code",
   "execution_count": null,
   "metadata": {},
   "outputs": [],
   "source": [
    "# required packages\n",
    "# install.packages(c(\"ape\",\"ggplot2\"))"
   ]
  },
  {
   "cell_type": "code",
   "execution_count": 1,
   "metadata": {
    "colab": {
     "base_uri": "https://localhost:8080/"
    },
    "executionInfo": {
     "elapsed": 34511,
     "status": "ok",
     "timestamp": 1623036673757,
     "user": {
      "displayName": "Tsu-Wang Sun",
      "photoUrl": "",
      "userId": "15932095404451727917"
     },
     "user_tz": -480
    },
    "id": "J5qIi0EhbSgB",
    "outputId": "358b05ac-5c10-4b5c-f562-4f8ac6bcbf15"
   },
   "outputs": [],
   "source": [
    "library(ape)\n",
    "library(ggplot2)"
   ]
  },
  {
   "cell_type": "code",
   "execution_count": 2,
   "metadata": {},
   "outputs": [
    {
     "data": {
      "text/html": [
       "<strong>png:</strong> 2"
      ],
      "text/latex": [
       "\\textbf{png:} 2"
      ],
      "text/markdown": [
       "**png:** 2"
      ],
      "text/plain": [
       "png \n",
       "  2 "
      ]
     },
     "metadata": {},
     "output_type": "display_data"
    }
   ],
   "source": [
    "vdir=\"\" # directory for virus list and pangenome datasets\n",
    "tdir=\"\" # directory for core-gene tree\n",
    "md=\"0807\" # date for the datasets\n",
    "\n",
    "# Import datasets as dataframes \n",
    "nspl=read.csv(paste0(vdir,\"viruslist-single-pan\",md,\"_plus2.tsv\"),header=T,sep='\\t') # virus list with pangenome of genomes\n",
    "euktax=read.csv(paste0(\"euktax.tsv\"),header=T,sep='\\t') # host taxonomy\n",
    "panlin=read.csv(paste0(vdir,\"pangenome\",md,\"lineage.tsv\"),header=T,sep='\\t') # pangenome of lineages\n",
    "tre1=read.tree(file=paste0(tdir,\"iq2-allmaf_og.fasta.treefile\")) # tree file\n",
    "\n",
    "# change column and family names and sort host super group\n",
    "colnames(nspl)[which(colnames(nspl)=='Lineage')]='virTree'\n",
    "colnames(nspl)[which(colnames(nspl)=='Host_lineage')]='EukTree'\n",
    "levels(nspl$virTree)=sort(as.character(sub(\" \",\"_\",sub(\" $\",\"\",unique(nspl$virTree)))))\n",
    "#nspl=nspl[-which(nspl$EukTree==\"\"),]\n",
    "nspl[which(nspl$Family=='Mimiviridae-P'),'Family']='Mimiviridae'\n",
    "nspl[which(nspl$Family=='Pandoraviridae'),'Family']='Phycodnaviridae'\n",
    "nspl[which(nspl$Family=='Ascoviridae'),'Family']='Iridoviridae'\n",
    "\n",
    "# build a table for detailed host taxonomy\n",
    "eutx=NULL\n",
    "for(i in 1:nrow(euktax)){\n",
    "  eutx[grep(euktax$EukTree[i],nspl$EukTree)]=as.character(euktax$hostLineage[i])\n",
    "}\n",
    "cspl=cbind(nspl,eutx)\n",
    "\n",
    "# entropy calculation\n",
    "entt=function(ps){\n",
    "  ps=ps[which(ps>0)]\n",
    "  ans=0.000001\n",
    "  for(i in 1:length(ps)){ \n",
    "    ans=ans+(ps[i]*log(ps[i]))\n",
    "  }\n",
    "  return(-ans)\n",
    "}\n",
    "\n",
    "\n",
    "# calculate relative distances among viruses in lineages\n",
    "lincorediv=function(i){\n",
    "  lineage_pool=unique(cspl$virTree[which(cspl$Family==unique(cspl$Family)[i])])\n",
    "  lins2lins=0\n",
    "  for(v in lineage_pool){\n",
    "    lin2lins=0\n",
    "    lineage_pool=lineage_pool[-which(lineage_pool==v)]\n",
    "    if(length(lineage_pool)==0){break;}\n",
    "    for(j in cspl[which(cspl$virTree==v),'Abre']){\n",
    "      gm2lins=0\n",
    "      for(k in lineage_pool){\n",
    "        gm2lins=gm2lins+mean(cophenetic.phylo(tre1)[as.character(j),as.character(cspl[which(cspl$virTree==k),'Abre'])])\n",
    "      }\n",
    "      lin2lins=lin2lins+gm2lins/length(lineage_pool)\n",
    "    }\n",
    "    lins2lins=c(lins2lins,lin2lins/length(cspl[which(cspl$virTree==v),'Abre']))\n",
    "  }\n",
    "  return(lins2lins[-1])\n",
    "}\n",
    "\n",
    "\n",
    "\n",
    "#lineage-wise calculation\n",
    "linlin=function(i,colm){\n",
    "  ans=NULL\n",
    "  for(v in unique(cspl$virTree[which(cspl$Family==unique(cspl$Family)[i])])){\n",
    "    ans=c(ans,mean(cspl[which(cspl$virTree==v),colm],na.rm=T))\n",
    "  }\n",
    "  return(ans)\n",
    "}\n",
    "lincat=function(i,colm){\n",
    "  ans=NULL\n",
    "  for(v in unique(cspl$virTree[which(cspl$Family==unique(cspl$Family)[i])])){\n",
    "    ans=c(ans,as.character(unique(cspl[which(cspl$virTree==v),colm])))\n",
    "  }\n",
    "  return(ans)\n",
    "}\n",
    "\n",
    "\n",
    "# calculate and list all data for plots\n",
    "hdiv2=cbind(family=as.character(unique(cspl[,'Family'])),aansd=0,\n",
    "            hdiv=0,kodm=0,sgt=0)\n",
    "for(i in 1:nrow(hdiv2)){\n",
    "  hdiv2[i,'aansd']=sd(linlin(i,'aanum'),na.rm=T) # aa number !\n",
    "  hdiv2[i,'kodm']=mean(lincorediv(i),na.rm=T) # core gene seq div !\n",
    "  hdiv2[i,'sgt']=sd(linlin(i,'ptng'),na.rm=T)#singleton !\n",
    "  \n",
    "  hdiv2[i,'hdiv']=entt(table(lincat(i,'eutx'))/sum(table(lincat(i,'eutx')),na.rm=T))\n",
    "}\n",
    "hdiv2=as.data.frame(hdiv2)\n",
    "\n",
    "\n",
    "\n",
    "pdf(paste0('hostdiv_',md,'.pdf'),\n",
    "    width=8.268/2.1,height=11.693/4.2,paper='special')\n",
    "a=ggplot(hdiv2,aes(x=as.numeric(as.character(hdiv)),y=as.numeric(as.character(aansd))))+\n",
    "  geom_point(size=2)+theme_classic()+ geom_text(aes(label=family),vjust=1.5)+\n",
    "  labs(x=\"Supergroup-level host diversity\", y=\"SD of protein numbers\")+\n",
    "  scale_x_continuous(limits=c(-0.1,1.8)) #protein number sd\n",
    "print(a)\n",
    "\n",
    "a=ggplot(hdiv2,aes(x=as.numeric(as.character(hdiv)),y=as.numeric(as.character(sgt))))+\n",
    "  geom_point(size=2)+theme_classic()+ geom_text(aes(label=family),vjust=1.5)+\n",
    "  labs(x=\"Supergroup-level host diversity\", y=\"SD of singleton numbers\")+\n",
    "  scale_x_continuous(limits=c(-0.1,1.8)) #expand_limits(x=-0.5)\n",
    "print(a)\n",
    "\n",
    "\n",
    "a=ggplot(hdiv2,aes(x=as.numeric(as.character(hdiv)),y=as.numeric(as.character(kodm))))+\n",
    "  geom_point(size=2)+theme_classic()+ geom_text(aes(label=family),vjust=1.5)+\n",
    "  labs(x=\"Supergroup-level host diversity\", y=\"Core-gene tree divergence\")+\n",
    "  scale_x_continuous(limits=c(-0.1,1.8))+expand_limits(y=0) #divergence mean\n",
    "print(a)\n",
    "\n",
    "\n",
    "dev.off()\n",
    "\n"
   ]
  },
  {
   "cell_type": "code",
   "execution_count": null,
   "metadata": {},
   "outputs": [],
   "source": []
  }
 ],
 "metadata": {
  "colab": {
   "authorship_tag": "ABX9TyNZ7ZiyhUKfyv/+V8c01v71",
   "name": "R_0607fig3.ipynb",
   "provenance": []
  },
  "kernelspec": {
   "display_name": "R",
   "language": "R",
   "name": "ir"
  },
  "language_info": {
   "codemirror_mode": "r",
   "file_extension": ".r",
   "mimetype": "text/x-r-source",
   "name": "R",
   "pygments_lexer": "r",
   "version": "3.6.1"
  }
 },
 "nbformat": 4,
 "nbformat_minor": 1
}
